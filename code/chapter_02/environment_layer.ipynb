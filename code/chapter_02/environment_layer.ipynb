{
 "cells": [
  {
   "cell_type": "code",
   "execution_count": 1,
   "id": "6e2d5b6b-4a2c-49e6-8d3c-a8ea3f903f62",
   "metadata": {
    "tags": []
   },
   "outputs": [],
   "source": [
    "import os\n",
    "os.environ['OMP_NUM_THREADS'] = \"16\"\n",
    "os.environ['KMP_AFFINITY'] = \"granularity=fine,compact,1,0\"\n",
    "os.environ['KMP_BLOCKTIME'] = \"0\"\n",
    "os.environ['OMP_DISPLAY_ENV'] = \"True\""
   ]
  },
  {
   "cell_type": "code",
   "execution_count": 2,
   "id": "5a20732e-6c90-418a-9817-4c1b4e2a2077",
   "metadata": {
    "id": "5a20732e-6c90-418a-9817-4c1b4e2a2077",
    "tags": []
   },
   "outputs": [
    {
     "name": "stderr",
     "output_type": "stream",
     "text": [
      "\n",
      "OPENMP DISPLAY ENVIRONMENT BEGIN\n",
      "  _OPENMP = '201511'\n",
      "  OMP_DYNAMIC = 'FALSE'\n",
      "  OMP_NESTED = 'FALSE'\n",
      "  OMP_NUM_THREADS = '16'\n",
      "  OMP_SCHEDULE = 'DYNAMIC'\n",
      "  OMP_PROC_BIND = 'FALSE'\n",
      "  OMP_PLACES = ''\n",
      "  OMP_STACKSIZE = '44410930'\n",
      "  OMP_WAIT_POLICY = 'PASSIVE'\n",
      "  OMP_THREAD_LIMIT = '4294967295'\n",
      "  OMP_MAX_ACTIVE_LEVELS = '2147483647'\n",
      "  OMP_CANCELLATION = 'FALSE'\n",
      "  OMP_DEFAULT_DEVICE = '0'\n",
      "  OMP_MAX_TASK_PRIORITY = '0'\n",
      "OPENMP DISPLAY ENVIRONMENT END\n",
      "\n",
      "OPENMP DISPLAY ENVIRONMENT BEGIN\n",
      "   _OPENMP='201611'\n",
      "  [host] OMP_AFFINITY_FORMAT='OMP: pid %P tid %i thread %n bound to OS proc set {%A}'\n",
      "  [host] OMP_ALLOCATOR='omp_default_mem_alloc'\n",
      "  [host] OMP_CANCELLATION='FALSE'\n",
      "  [host] OMP_DEBUG='disabled'\n",
      "  [host] OMP_DEFAULT_DEVICE='0'\n",
      "  [host] OMP_DISPLAY_AFFINITY='FALSE'\n",
      "  [host] OMP_DISPLAY_ENV='TRUE'\n",
      "  [host] OMP_DYNAMIC='FALSE'\n",
      "  [host] OMP_MAX_ACTIVE_LEVELS='1'\n",
      "  [host] OMP_MAX_TASK_PRIORITY='0'\n",
      "  [host] OMP_NESTED: deprecated; max-active-levels-var=1\n",
      "  [host] OMP_NUM_TEAMS='0'\n",
      "  [host] OMP_NUM_THREADS='16'\n",
      "  [host] OMP_PLACES='threads'\n",
      "  [host] OMP_PROC_BIND='intel'\n",
      "  [host] OMP_SCHEDULE='static'\n",
      "  [host] OMP_STACKSIZE='4M'\n",
      "  [host] OMP_TARGET_OFFLOAD=DEFAULT\n",
      "  [host] OMP_TEAMS_THREAD_LIMIT='0'\n",
      "  [host] OMP_THREAD_LIMIT='2147483647'\n",
      "  [host] OMP_TOOL='enabled'\n",
      "  [host] OMP_TOOL_LIBRARIES: value is not defined\n",
      "  [host] OMP_TOOL_VERBOSE_INIT: value is not defined\n",
      "  [host] OMP_WAIT_POLICY='PASSIVE'\n",
      "OPENMP DISPLAY ENVIRONMENT END\n",
      "\n",
      "\n"
     ]
    }
   ],
   "source": [
    "import time\n",
    "import numpy as np\n",
    "import torch\n",
    "import torch.nn as nn\n",
    "from torchvision import datasets\n",
    "from torchvision import transforms\n",
    "from torchvision import models\n",
    "from torch.utils.data.sampler import SubsetRandomSampler\n",
    "from torch.profiler import profile, record_function, ProfilerActivity"
   ]
  },
  {
   "cell_type": "code",
   "execution_count": 3,
   "id": "0f92994f-ffe8-4e80-9c46-8963aade1246",
   "metadata": {
    "id": "0f92994f-ffe8-4e80-9c46-8963aade1246",
    "tags": []
   },
   "outputs": [],
   "source": [
    "def build_data_loader(data_dir, batch_size, random_seed=42, valid_size=0.1, shuffle=True, test=False):\n",
    "\n",
    "    transform = transforms.Compose([transforms.ToTensor()])\n",
    "    \n",
    "    train_dataset = datasets.FashionMNIST(root=data_dir, train=True, download=True, transform=transform)\n",
    "    valid_dataset = datasets.FashionMNIST(root=data_dir, train=True, download=True, transform=transform)\n",
    "    test_dataset = datasets.FashionMNIST(root=data_dir, train=False, download=True, transform=transform)\n",
    "  \n",
    "    num_train = len(train_dataset)\n",
    "    indices = list(range(num_train))\n",
    "    split = int(np.floor(valid_size * num_train))\n",
    "\n",
    "    if shuffle:\n",
    "        np.random.seed(random_seed)\n",
    "        np.random.shuffle(indices)\n",
    "\n",
    "    train_idx, valid_idx = indices[split:], indices[:split]\n",
    "    train_sampler = SubsetRandomSampler(train_idx)\n",
    "    valid_sampler = SubsetRandomSampler(valid_idx)\n",
    "\n",
    "    train_loader = torch.utils.data.DataLoader(train_dataset, batch_size=batch_size, sampler=train_sampler)\n",
    "    valid_loader = torch.utils.data.DataLoader(valid_dataset, batch_size=batch_size, sampler=valid_sampler)\n",
    "    test_loader = torch.utils.data.DataLoader(test_dataset, batch_size=batch_size, shuffle=shuffle)\n",
    "\n",
    "    return (train_loader, valid_loader, test_loader)"
   ]
  },
  {
   "cell_type": "code",
   "execution_count": 4,
   "id": "d745f184-7704-4850-9f57-4268cf20102e",
   "metadata": {
    "id": "d745f184-7704-4850-9f57-4268cf20102e",
    "tags": []
   },
   "outputs": [],
   "source": [
    "def train(model, data_loader, valid_loader, num_epochs, criterion, optimizer, device):\n",
    "    total_steps = len(train_loader)\n",
    "    for epoch in range(num_epochs):\n",
    "        for step, (images, labels) in enumerate(train_loader):  \n",
    "            # Move tensors to the configured device\n",
    "            images = images.to(device)\n",
    "            labels = labels.to(device)\n",
    "        \n",
    "            # Forward pass\n",
    "            outputs = model(images)\n",
    "            loss = criterion(outputs, labels)\n",
    "        \n",
    "            # Backward and optimize\n",
    "            optimizer.zero_grad()\n",
    "            loss.backward()\n",
    "            optimizer.step()\n",
    "            #if (step % 100 == 0):\n",
    "            #    print ('Step [{}/{}], Loss: {:.4f}'.format(step+1, total_steps, loss.item()))\n",
    "               \n",
    "        print ('Epoch [{}/{}], Loss: {:.4f}'.format(epoch+1, num_epochs, loss.item()))\n",
    "            "
   ]
  },
  {
   "cell_type": "code",
   "execution_count": 5,
   "id": "e811ffaf-11fb-4a57-b16e-595338a32081",
   "metadata": {
    "id": "e811ffaf-11fb-4a57-b16e-595338a32081",
    "tags": []
   },
   "outputs": [],
   "source": [
    "def validate(model, valid_loader, device):\n",
    "    with torch.no_grad():\n",
    "        correct = 0\n",
    "        total = 0\n",
    "        for images, labels in valid_loader:\n",
    "            images = images.to(device)\n",
    "            labels = labels.to(device)\n",
    "            outputs = model(images)\n",
    "            _, predicted = torch.max(outputs.data, 1)\n",
    "            total += labels.size(0)\n",
    "            correct += (predicted == labels).sum().item()\n",
    "            del images, labels, outputs\n",
    "    \n",
    "    print('Accuracy of the network on the {} validation images: {:.2f} %'.format(5000, 100 * correct / total)) "
   ]
  },
  {
   "cell_type": "code",
   "execution_count": 6,
   "id": "e1843b38-0eff-476b-8ed0-2a1646dbb72f",
   "metadata": {
    "id": "e1843b38-0eff-476b-8ed0-2a1646dbb72f",
    "tags": []
   },
   "outputs": [],
   "source": [
    "def test(model, test_loader, device):\n",
    "    with torch.no_grad():\n",
    "        correct = 0\n",
    "        total = 0\n",
    "        for images, labels in test_loader:\n",
    "            images = images.to(device)\n",
    "            labels = labels.to(device)\n",
    "            outputs = model(images)\n",
    "            _, predicted = torch.max(outputs.data, 1)\n",
    "            total += labels.size(0)\n",
    "            correct += (predicted == labels).sum().item()\n",
    "            del images, labels, outputs\n",
    "\n",
    "    print('Accuracy of the network on the {} test images: {} %'.format(total, 100 * correct / total))  "
   ]
  },
  {
   "cell_type": "code",
   "execution_count": 7,
   "id": "ce883513-47bf-45b0-b902-807dc848c733",
   "metadata": {
    "id": "ce883513-47bf-45b0-b902-807dc848c733",
    "tags": []
   },
   "outputs": [],
   "source": [
    "def count_parameters(model):\n",
    "    parameters = list(model.parameters())\n",
    "    total_parms = sum([np.prod(p.size()) for p in parameters if p.requires_grad])\n",
    "    return total_parms\n"
   ]
  },
  {
   "cell_type": "code",
   "execution_count": 8,
   "id": "d_gHdGv84ocR",
   "metadata": {
    "id": "d_gHdGv84ocR",
    "tags": []
   },
   "outputs": [],
   "source": [
    "class CNN(nn.Module):\n",
    "    def __init__(self, num_classes=10):\n",
    "        super(CNN, self).__init__()\n",
    "        self.layer1 = nn.Sequential(\n",
    "            nn.Conv2d(1, 32, kernel_size=3, stride=1, padding=1),\n",
    "            nn.ReLU(),\n",
    "            nn.MaxPool2d(kernel_size = 2, stride = 2))\n",
    "        \n",
    "        self.layer2 = nn.Sequential(\n",
    "            nn.Conv2d(32, 64, kernel_size=3, stride=1, padding=1),\n",
    "            nn.ReLU(),\n",
    "            nn.MaxPool2d(kernel_size = 2, stride = 2))\n",
    "\n",
    "        self.fc1 = nn.Linear(64*7*7, 512)\n",
    "        \n",
    "        self.fc2 = nn.Linear(512, num_classes)\n",
    "\n",
    "    def forward(self, x):\n",
    "        out = self.layer1(x)\n",
    "        out = self.layer2(out)\n",
    "        out = out.reshape(out.size(0), -1)\n",
    "        out = self.fc1(out)\n",
    "        out = self.fc2(out)\n",
    "        return out"
   ]
  },
  {
   "cell_type": "code",
   "execution_count": 9,
   "id": "76056f95-3978-44e4-94a0-a9c4c7ee21fc",
   "metadata": {
    "id": "76056f95-3978-44e4-94a0-a9c4c7ee21fc",
    "tags": []
   },
   "outputs": [
    {
     "name": "stdout",
     "output_type": "stream",
     "text": [
      "1630090\n"
     ]
    }
   ],
   "source": [
    "# General parameters\n",
    "data_dir = '/tmp'\n",
    "device = 'cpu'\n",
    "num_classes = 10\n",
    "\n",
    "# Hyperparameters\n",
    "max_lr = 0.00001\n",
    "weight_decay = 0.005\n",
    "batch_size = 64\n",
    "num_epochs = 10\n",
    "criterion = nn.CrossEntropyLoss()\n",
    "optimizer = torch.optim.Adam\n",
    "\n",
    "# FashionMNIST dataset \n",
    "train_loader, valid_loader, test_loader = build_data_loader(data_dir=data_dir, batch_size=batch_size)\n",
    "\n",
    "#model\n",
    "model = CNN(num_classes)\n",
    "print(count_parameters(model))\n",
    "\n",
    "# Optimizer\n",
    "optimizer = optimizer(model.parameters(), max_lr, weight_decay=weight_decay)"
   ]
  },
  {
   "cell_type": "code",
   "execution_count": 10,
   "id": "db1b0241-6c87-40cf-8e55-d8cddf5cc71e",
   "metadata": {
    "colab": {
     "base_uri": "https://localhost:8080/"
    },
    "id": "db1b0241-6c87-40cf-8e55-d8cddf5cc71e",
    "outputId": "4e39020b-7a35-4bf0-e2c4-d862cb3257f9",
    "tags": []
   },
   "outputs": [
    {
     "name": "stdout",
     "output_type": "stream",
     "text": [
      "Epoch [1/10], Loss: 0.7346\n",
      "Epoch [2/10], Loss: 0.7188\n",
      "Epoch [3/10], Loss: 0.5995\n",
      "Epoch [4/10], Loss: 0.6082\n",
      "Epoch [5/10], Loss: 0.3770\n",
      "Epoch [6/10], Loss: 0.3311\n",
      "Epoch [7/10], Loss: 0.4581\n",
      "Epoch [8/10], Loss: 0.5811\n",
      "Epoch [9/10], Loss: 0.4288\n",
      "Epoch [10/10], Loss: 0.4380\n",
      "Training time: 103 seconds\n"
     ]
    }
   ],
   "source": [
    "start = time.time()\n",
    "train(model, train_loader, valid_loader, num_epochs, criterion, optimizer, device)\n",
    "end = time.time()\n",
    "print('Training time: {} seconds'.format(int(end - start)))"
   ]
  },
  {
   "cell_type": "code",
   "execution_count": 11,
   "id": "eb11bf0b-91bf-48a6-be4d-5575cd8f6aba",
   "metadata": {
    "tags": []
   },
   "outputs": [
    {
     "name": "stdout",
     "output_type": "stream",
     "text": [
      "Accuracy of the network on the 10000 test images: 83.65 %\n"
     ]
    }
   ],
   "source": [
    "test(model, test_loader, device)"
   ]
  },
  {
   "cell_type": "code",
   "execution_count": 12,
   "id": "e794d3a5-5955-4657-b191-b4b2c2b71b8b",
   "metadata": {
    "id": "e794d3a5-5955-4657-b191-b4b2c2b71b8b",
    "tags": []
   },
   "outputs": [
    {
     "name": "stdout",
     "output_type": "stream",
     "text": [
      "---------------------------------  ------------  ------------  ------------  ------------  ------------  ------------  \n",
      "                             Name    Self CPU %      Self CPU   CPU total %     CPU total  CPU time avg    # of Calls  \n",
      "---------------------------------  ------------  ------------  ------------  ------------  ------------  ------------  \n",
      "         aten::mkldnn_convolution        51.29%       1.190ms        52.03%       1.207ms     603.500us             2  \n",
      "    aten::max_pool2d_with_indices        29.09%     675.000us        29.09%     675.000us     337.500us             2  \n",
      "                      aten::addmm         9.74%     226.000us        10.73%     249.000us     124.500us             2  \n",
      "                  aten::clamp_min         3.49%      81.000us         3.49%      81.000us      40.500us             2  \n",
      "                aten::convolution         1.16%      27.000us        53.79%       1.248ms     624.000us             2  \n",
      "                      aten::copy_         0.86%      20.000us         0.86%      20.000us      10.000us             2  \n",
      "                       aten::relu         0.65%      15.000us         4.14%      96.000us      48.000us             2  \n",
      "               aten::_convolution         0.60%      14.000us        52.63%       1.221ms     610.500us             2  \n",
      "                     aten::conv2d         0.52%      12.000us        54.31%       1.260ms     630.000us             2  \n",
      "                      aten::empty         0.47%      11.000us         0.47%      11.000us       2.750us             4  \n",
      "---------------------------------  ------------  ------------  ------------  ------------  ------------  ------------  \n",
      "Self CPU time total: 2.320ms\n",
      "\n"
     ]
    },
    {
     "name": "stderr",
     "output_type": "stream",
     "text": [
      "STAGE:2023-05-20 20:01:43 808882:808882 ActivityProfilerController.cpp:311] Completed Stage: Warm Up\n",
      "STAGE:2023-05-20 20:01:43 808882:808882 ActivityProfilerController.cpp:317] Completed Stage: Collection\n",
      "STAGE:2023-05-20 20:01:43 808882:808882 ActivityProfilerController.cpp:321] Completed Stage: Post Processing\n"
     ]
    }
   ],
   "source": [
    "schedule = torch.profiler.schedule(wait=5, warmup=5, active=3)\n",
    "\n",
    "#prof = profile(schedule=schedule, activities=[ProfilerActivity.CPU], with_stack=True, record_shapes=True, on_trace_ready=torch.profiler.tensorboard_trace_handler('./log/cnn/'))\n",
    "prof = profile(activities=[ProfilerActivity.CPU])\n",
    "        \n",
    "input_sample, _ = next(iter(train_loader))\n",
    "\n",
    "prof.start()\n",
    "model(input_sample)\n",
    "prof.stop()\n",
    "\n",
    "#prof.export_chrome_trace(\"./cnn_trace.json\")\n",
    "print(prof.key_averages().table(sort_by=\"self_cpu_time_total\", row_limit=10))"
   ]
  },
  {
   "cell_type": "code",
   "execution_count": null,
   "id": "32614736-498a-423a-a757-630299962db1",
   "metadata": {},
   "outputs": [],
   "source": []
  }
 ],
 "metadata": {
  "colab": {
   "provenance": []
  },
  "kernelspec": {
   "display_name": "Python 3 (ipykernel)",
   "language": "python",
   "name": "python3"
  },
  "language_info": {
   "codemirror_mode": {
    "name": "ipython",
    "version": 3
   },
   "file_extension": ".py",
   "mimetype": "text/x-python",
   "name": "python",
   "nbconvert_exporter": "python",
   "pygments_lexer": "ipython3",
   "version": "3.10.10"
  }
 },
 "nbformat": 4,
 "nbformat_minor": 5
}
