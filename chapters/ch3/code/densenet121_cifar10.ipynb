{
 "cells": [
  {
   "cell_type": "code",
   "execution_count": 1,
   "id": "7424b494-1a5b-4f80-9481-895bda041165",
   "metadata": {},
   "outputs": [],
   "source": [
    "import os\n",
    "os.environ['OMP_NUM_THREADS'] = \"128\"\n",
    "os.environ['KMP_AFFINITY'] = \"granularity=fine,compact,1,0\"\n",
    "os.environ['KMP_BLOCKTIME'] = \"0\"\n",
    "#os.environ['TORCH_USE_CUDA_DSA'] = \"1\"\n",
    "#os.environ['TORCHDYNAMO_REPRO_AFTER'] =\"aot\" \n",
    "#os.environ['TORCHDYNAMO_REPRO_LEVEL'] = \"4\""
   ]
  },
  {
   "cell_type": "code",
   "execution_count": 2,
   "id": "5a20732e-6c90-418a-9817-4c1b4e2a2077",
   "metadata": {
    "id": "5a20732e-6c90-418a-9817-4c1b4e2a2077",
    "tags": []
   },
   "outputs": [],
   "source": [
    "import time\n",
    "import logging\n",
    "import numpy as np\n",
    "import torch\n",
    "import torch.nn as nn\n",
    "import torch._dynamo\n",
    "import torch._inductor\n",
    "from torchvision import datasets\n",
    "from torchvision import transforms\n",
    "from torchvision import models\n",
    "from torch.utils.data.sampler import SubsetRandomSampler\n",
    "from torch.profiler import profile, record_function, ProfilerActivity"
   ]
  },
  {
   "cell_type": "code",
   "execution_count": 3,
   "id": "11c80752-d9c6-455c-88c4-130db1688134",
   "metadata": {},
   "outputs": [],
   "source": [
    "#torch.backends.cuda.matmul.allow_tf32 = True\n",
    "#torch._dynamo.config.cache_size_limit = 2"
   ]
  },
  {
   "cell_type": "code",
   "execution_count": 4,
   "id": "0f92994f-ffe8-4e80-9c46-8963aade1246",
   "metadata": {
    "id": "0f92994f-ffe8-4e80-9c46-8963aade1246",
    "tags": []
   },
   "outputs": [],
   "source": [
    "def build_data_loader(data_dir, batch_size, random_seed=42, valid_size=0.1, shuffle=True, test=False):\n",
    "\n",
    "    transform = transforms.Compose([transforms.ToTensor()])\n",
    "    transform.crop_size=224\n",
    "    transform.resize_size=224\n",
    "    \n",
    "    train_dataset = datasets.CIFAR10(root=data_dir, train=True, download=True, transform=transform)\n",
    "    test_dataset = datasets.CIFAR10(root=data_dir, train=False, download=True, transform=transform)\n",
    "\n",
    "    train_loader = torch.utils.data.DataLoader(train_dataset, batch_size=batch_size)\n",
    "    test_loader = torch.utils.data.DataLoader(test_dataset, batch_size=batch_size, shuffle=shuffle)\n",
    "\n",
    "    return (train_loader, test_loader)"
   ]
  },
  {
   "cell_type": "code",
   "execution_count": 5,
   "id": "d745f184-7704-4850-9f57-4268cf20102e",
   "metadata": {
    "id": "d745f184-7704-4850-9f57-4268cf20102e",
    "tags": []
   },
   "outputs": [],
   "source": [
    "def train(model, data_loader, num_epochs, criterion, optimizer, device):\n",
    "    total_steps = len(train_loader)\n",
    "    for epoch in range(num_epochs):\n",
    "        start = time.time()\n",
    "        for step, (images, labels) in enumerate(train_loader):  \n",
    "            # Move tensors to the configured device\n",
    "            images = images.to(device)\n",
    "            labels = labels.to(device)\n",
    "        \n",
    "            # Forward pass\n",
    "            outputs = model(images)\n",
    "            outputs.to(device)\n",
    "            loss = criterion(outputs, labels)\n",
    "        \n",
    "            # Backward and optimize\n",
    "            optimizer.zero_grad()\n",
    "            loss.backward()\n",
    "            optimizer.step()\n",
    "            #print ('Step [{}/{}], Loss: {:.4f}'.format(step+1, total_steps, loss.item()))\n",
    "        end = time.time()\n",
    "               \n",
    "        print ('Epoch [{}/{}], Loss: {:.4f}, time: {} seconds'.format(epoch+1, num_epochs, loss.item(), int(end-start)))\n",
    "            "
   ]
  },
  {
   "cell_type": "code",
   "execution_count": 6,
   "id": "e1843b38-0eff-476b-8ed0-2a1646dbb72f",
   "metadata": {
    "id": "e1843b38-0eff-476b-8ed0-2a1646dbb72f",
    "tags": []
   },
   "outputs": [],
   "source": [
    "def test(model, test_loader, device):\n",
    "    with torch.no_grad():\n",
    "        correct = 0\n",
    "        total = 0\n",
    "        for images, labels in test_loader:\n",
    "            images = images.to(device)\n",
    "            labels = labels.to(device)\n",
    "            outputs = model(images)\n",
    "            _, predicted = torch.max(outputs.data, 1)\n",
    "            total += labels.size(0)\n",
    "            correct += (predicted == labels).sum().item()\n",
    "            del images, labels, outputs\n",
    "\n",
    "    print('Accuracy of the network on the {} test images: {} %'.format(10000, 100 * correct / total))  "
   ]
  },
  {
   "cell_type": "code",
   "execution_count": 7,
   "id": "348a57dd-8fb2-4e0a-8407-bd9dfb282605",
   "metadata": {},
   "outputs": [],
   "source": [
    "class CNN(nn.Module):\n",
    "    def __init__(self, num_classes=10):\n",
    "        super(CNN, self).__init__()\n",
    "        self.layer1 = nn.Sequential(\n",
    "            nn.Conv2d(3, 32, kernel_size=3, stride=1, padding=1),\n",
    "            nn.ReLU(),\n",
    "            nn.MaxPool2d(kernel_size = 2, stride = 2))\n",
    "        \n",
    "        self.layer2 = nn.Sequential(\n",
    "            nn.Conv2d(32, 64, kernel_size=3, stride=1, padding=1),\n",
    "            nn.ReLU(),\n",
    "            nn.MaxPool2d(kernel_size = 2, stride = 2))\n",
    "\n",
    "        self.fc1 = nn.Linear(4096, 512)\n",
    "        \n",
    "        self.fc2 = nn.Linear(512, num_classes)\n",
    "\n",
    "    def forward(self, x):\n",
    "        out = self.layer1(x)\n",
    "        out = self.layer2(out)\n",
    "        out = out.reshape(out.size(0), -1)\n",
    "        out = self.fc1(out)\n",
    "        out = self.fc2(out)\n",
    "        return out"
   ]
  },
  {
   "cell_type": "code",
   "execution_count": 8,
   "id": "f5xsnWrzeOGc",
   "metadata": {
    "colab": {
     "base_uri": "https://localhost:8080/"
    },
    "id": "f5xsnWrzeOGc",
    "outputId": "608b0a82-87b6-4954-99ed-06e9d16602c5"
   },
   "outputs": [],
   "source": [
    "import torch\n",
    "import warnings\n",
    "\n",
    "gpu_ok = False\n",
    "if torch.cuda.is_available():\n",
    "    device_cap = torch.cuda.get_device_capability()\n",
    "    if device_cap in ((7, 0), (8, 0), (9, 0)):\n",
    "        gpu_ok = True\n",
    "\n",
    "if not gpu_ok:\n",
    "    warnings.warn(\"GPU is not NVIDIA V100, A100, or H100. Speedup numbers may be lower than expected.\")"
   ]
  },
  {
   "cell_type": "code",
   "execution_count": 9,
   "id": "76056f95-3978-44e4-94a0-a9c4c7ee21fc",
   "metadata": {
    "colab": {
     "base_uri": "https://localhost:8080/"
    },
    "id": "76056f95-3978-44e4-94a0-a9c4c7ee21fc",
    "outputId": "1066a5d6-c889-402e-864c-7d7359d1ef91",
    "tags": []
   },
   "outputs": [
    {
     "name": "stdout",
     "output_type": "stream",
     "text": [
      "Files already downloaded and verified\n",
      "Files already downloaded and verified\n"
     ]
    }
   ],
   "source": [
    "# General parameters\n",
    "data_dir = '/tmp'\n",
    "device = \"cuda\"\n",
    "\n",
    "# Hyperparameters\n",
    "lr = 0.00001\n",
    "weight_decay = 0.005\n",
    "batch_size = 64\n",
    "num_epochs = 50\n",
    "criterion = nn.CrossEntropyLoss()\n",
    "optimizer = torch.optim.Adam\n",
    "\n",
    "# FashionMNIST dataset \n",
    "train_loader, test_loader = build_data_loader(data_dir=data_dir, batch_size=batch_size)\n",
    "\n",
    "# Models\n",
    "torch._dynamo.reset()\n",
    "weights = models.DenseNet121_Weights.DEFAULT\n",
    "net = models.densenet121(weights=weights)\n",
    "net.train()\n",
    "eager_model = net.to(device)\n",
    "compiled_model = torch.compile(net.to(device), backend=\"inductor\", mode=\"reduce-overhead\")\n",
    "\n",
    "# Model selection\n",
    "model = eager_model\n",
    "\n",
    "# Optimizer\n",
    "optimizer = optimizer(model.parameters(), lr, weight_decay=weight_decay)"
   ]
  },
  {
   "cell_type": "code",
   "execution_count": 10,
   "id": "db1b0241-6c87-40cf-8e55-d8cddf5cc71e",
   "metadata": {
    "colab": {
     "base_uri": "https://localhost:8080/",
     "height": 537
    },
    "id": "db1b0241-6c87-40cf-8e55-d8cddf5cc71e",
    "outputId": "af1fa5de-b53a-4c5b-edb5-4c202ed455c3",
    "tags": []
   },
   "outputs": [
    {
     "name": "stdout",
     "output_type": "stream",
     "text": [
      "Epoch [1/50], Loss: 2.2007, time: 47 seconds\n",
      "Epoch [2/50], Loss: 1.5061, time: 44 seconds\n",
      "Epoch [3/50], Loss: 0.8362, time: 44 seconds\n",
      "Epoch [4/50], Loss: 0.4706, time: 44 seconds\n",
      "Epoch [5/50], Loss: 0.2696, time: 45 seconds\n",
      "Epoch [6/50], Loss: 0.1660, time: 45 seconds\n",
      "Epoch [7/50], Loss: 0.1110, time: 45 seconds\n",
      "Epoch [8/50], Loss: 0.0678, time: 45 seconds\n",
      "Epoch [9/50], Loss: 0.0482, time: 45 seconds\n",
      "Epoch [10/50], Loss: 0.0284, time: 45 seconds\n",
      "Epoch [11/50], Loss: 0.0272, time: 45 seconds\n",
      "Epoch [12/50], Loss: 0.0221, time: 45 seconds\n",
      "Epoch [13/50], Loss: 0.0862, time: 45 seconds\n",
      "Epoch [14/50], Loss: 0.0099, time: 45 seconds\n",
      "Epoch [15/50], Loss: 0.0125, time: 45 seconds\n",
      "Epoch [16/50], Loss: 0.0051, time: 45 seconds\n",
      "Epoch [17/50], Loss: 0.0033, time: 45 seconds\n",
      "Epoch [18/50], Loss: 0.0086, time: 45 seconds\n",
      "Epoch [19/50], Loss: 0.0027, time: 45 seconds\n",
      "Epoch [20/50], Loss: 0.0023, time: 45 seconds\n",
      "Epoch [21/50], Loss: 0.0037, time: 45 seconds\n",
      "Epoch [22/50], Loss: 0.0031, time: 45 seconds\n",
      "Epoch [23/50], Loss: 0.0412, time: 45 seconds\n",
      "Epoch [24/50], Loss: 0.0066, time: 45 seconds\n",
      "Epoch [25/50], Loss: 0.0028, time: 45 seconds\n",
      "Epoch [26/50], Loss: 0.0018, time: 45 seconds\n",
      "Epoch [27/50], Loss: 0.0017, time: 45 seconds\n",
      "Epoch [28/50], Loss: 0.0019, time: 45 seconds\n",
      "Epoch [29/50], Loss: 0.0029, time: 45 seconds\n",
      "Epoch [30/50], Loss: 0.0009, time: 45 seconds\n",
      "Epoch [31/50], Loss: 0.0013, time: 45 seconds\n",
      "Epoch [32/50], Loss: 0.0026, time: 45 seconds\n",
      "Epoch [33/50], Loss: 0.0014, time: 45 seconds\n",
      "Epoch [34/50], Loss: 0.0022, time: 45 seconds\n",
      "Epoch [35/50], Loss: 0.0020, time: 45 seconds\n",
      "Epoch [36/50], Loss: 0.0063, time: 45 seconds\n",
      "Epoch [37/50], Loss: 0.0059, time: 45 seconds\n",
      "Epoch [38/50], Loss: 0.0032, time: 45 seconds\n",
      "Epoch [39/50], Loss: 0.0021, time: 45 seconds\n",
      "Epoch [40/50], Loss: 0.0057, time: 45 seconds\n",
      "Epoch [41/50], Loss: 0.0034, time: 45 seconds\n",
      "Epoch [42/50], Loss: 0.0270, time: 45 seconds\n",
      "Epoch [43/50], Loss: 0.0025, time: 45 seconds\n",
      "Epoch [44/50], Loss: 0.0056, time: 45 seconds\n",
      "Epoch [45/50], Loss: 0.0006, time: 45 seconds\n",
      "Epoch [46/50], Loss: 0.0024, time: 45 seconds\n",
      "Epoch [47/50], Loss: 0.0021, time: 45 seconds\n",
      "Epoch [48/50], Loss: 0.0023, time: 45 seconds\n",
      "Epoch [49/50], Loss: 0.0012, time: 45 seconds\n",
      "Epoch [50/50], Loss: 0.0014, time: 45 seconds\n",
      "Training time: 2264 seconds\n",
      "Accuracy of the network on the 10000 test images: 74.26 %\n"
     ]
    }
   ],
   "source": [
    "#torch._inductor.config.fallback_random = True\n",
    "#torch._inductor.config.triton.cuda_graphs = False\n",
    "#torch._inductor.config.debug = True\n",
    "start = time.time()\n",
    "train(model, train_loader, num_epochs, criterion, optimizer, device)\n",
    "end = time.time()\n",
    "print('Training time: {} seconds'.format(int(end-start)))\n",
    "test(model, test_loader, device)"
   ]
  },
  {
   "cell_type": "code",
   "execution_count": null,
   "id": "e794d3a5-5955-4657-b191-b4b2c2b71b8b",
   "metadata": {
    "colab": {
     "base_uri": "https://localhost:8080/"
    },
    "id": "e794d3a5-5955-4657-b191-b4b2c2b71b8b",
    "outputId": "5f53d802-4aeb-4f0d-f555-3db2ac613ae4",
    "tags": []
   },
   "outputs": [
    {
     "name": "stderr",
     "output_type": "stream",
     "text": [
      "STAGE:2023-06-11 18:41:18 1616255:1616255 ActivityProfilerController.cpp:312] Completed Stage: Warm Up\n"
     ]
    },
    {
     "name": "stdout",
     "output_type": "stream",
     "text": [
      "Epoch [1/50], Loss: 0.0016, time: 83 seconds\n",
      "Epoch [2/50], Loss: 0.0200, time: 83 seconds\n",
      "Epoch [3/50], Loss: 0.0037, time: 83 seconds\n",
      "Epoch [4/50], Loss: 0.0029, time: 83 seconds\n",
      "Epoch [5/50], Loss: 0.0023, time: 83 seconds\n",
      "Epoch [6/50], Loss: 0.0020, time: 83 seconds\n",
      "Epoch [7/50], Loss: 0.0020, time: 83 seconds\n",
      "Epoch [8/50], Loss: 0.0024, time: 83 seconds\n",
      "Epoch [9/50], Loss: 0.0027, time: 83 seconds\n",
      "Epoch [10/50], Loss: 0.0033, time: 83 seconds\n",
      "Epoch [11/50], Loss: 0.2236, time: 83 seconds\n",
      "Epoch [12/50], Loss: 0.0928, time: 83 seconds\n",
      "Epoch [13/50], Loss: 0.1257, time: 83 seconds\n",
      "Epoch [14/50], Loss: 0.1975, time: 83 seconds\n",
      "Epoch [15/50], Loss: 0.0043, time: 83 seconds\n",
      "Epoch [16/50], Loss: 0.0040, time: 83 seconds\n",
      "Epoch [17/50], Loss: 0.0041, time: 83 seconds\n",
      "Epoch [18/50], Loss: 0.0045, time: 83 seconds\n",
      "Epoch [19/50], Loss: 0.0053, time: 83 seconds\n",
      "Epoch [20/50], Loss: 0.0164, time: 83 seconds\n",
      "Epoch [21/50], Loss: 0.0086, time: 83 seconds\n",
      "Epoch [22/50], Loss: 0.0076, time: 83 seconds\n",
      "Epoch [23/50], Loss: 0.0044, time: 83 seconds\n",
      "Epoch [24/50], Loss: 0.0042, time: 83 seconds\n",
      "Epoch [25/50], Loss: 0.0043, time: 83 seconds\n",
      "Epoch [26/50], Loss: 0.0218, time: 84 seconds\n",
      "Epoch [27/50], Loss: 0.0054, time: 84 seconds\n",
      "Epoch [28/50], Loss: 0.0056, time: 84 seconds\n",
      "Epoch [29/50], Loss: 0.0036, time: 84 seconds\n",
      "Epoch [30/50], Loss: 0.0037, time: 83 seconds\n",
      "Epoch [31/50], Loss: 0.1300, time: 84 seconds\n",
      "Epoch [32/50], Loss: 0.0373, time: 84 seconds\n",
      "Epoch [33/50], Loss: 0.0263, time: 84 seconds\n",
      "Epoch [34/50], Loss: 0.0159, time: 84 seconds\n",
      "Epoch [35/50], Loss: 0.0078, time: 83 seconds\n",
      "Epoch [36/50], Loss: 0.0054, time: 83 seconds\n",
      "Epoch [37/50], Loss: 0.0054, time: 83 seconds\n",
      "Epoch [38/50], Loss: 0.0057, time: 84 seconds\n",
      "Epoch [39/50], Loss: 0.0063, time: 84 seconds\n",
      "Epoch [40/50], Loss: 0.0192, time: 84 seconds\n",
      "Epoch [41/50], Loss: 0.0126, time: 84 seconds\n",
      "Epoch [42/50], Loss: 0.0093, time: 84 seconds\n",
      "Epoch [43/50], Loss: 0.0072, time: 84 seconds\n",
      "Epoch [44/50], Loss: 0.0068, time: 84 seconds\n",
      "Epoch [45/50], Loss: 0.0374, time: 84 seconds\n",
      "Epoch [46/50], Loss: 0.0557, time: 84 seconds\n",
      "Epoch [47/50], Loss: 0.0857, time: 84 seconds\n",
      "Epoch [48/50], Loss: 0.0667, time: 84 seconds\n",
      "Epoch [49/50], Loss: 0.1056, time: 84 seconds\n",
      "Epoch [50/50], Loss: 0.0733, time: 83 seconds\n"
     ]
    },
    {
     "name": "stderr",
     "output_type": "stream",
     "text": [
      "STAGE:2023-06-11 20:04:30 1616255:1616255 ActivityProfilerController.cpp:318] Completed Stage: Collection\n",
      "STAGE:2023-06-11 20:12:02 1616255:1616255 ActivityProfilerController.cpp:322] Completed Stage: Post Processing\n"
     ]
    }
   ],
   "source": [
    "#schedule = torch.profiler.schedule(wait=1, warmup=3, active=5, repeat=5)\n",
    "#activities = [ProfilerActivity.CPU, ProfilerActivity.CUDA]\n",
    "activities = [ProfilerActivity.CPU, ProfilerActivity.CUDA]\n",
    "prof = profile(activities=activities)\n",
    "        \n",
    "input_sample, _ = next(iter(train_loader))\n",
    "\n",
    "prof.start()\n",
    "train(model, train_loader, num_epochs, criterion, optimizer, device)\n",
    "prof.stop()\n",
    "\n",
    "#prof.export_chrome_trace(\"./cnn_trace.json\")\n",
    "print(prof.key_averages().table(sort_by=\"self_cuda_time_total\", row_limit=10))"
   ]
  },
  {
   "cell_type": "code",
   "execution_count": null,
   "id": "32614736-498a-423a-a757-630299962db1",
   "metadata": {
    "id": "32614736-498a-423a-a757-630299962db1"
   },
   "outputs": [],
   "source": []
  }
 ],
 "metadata": {
  "accelerator": "GPU",
  "colab": {
   "gpuType": "T4",
   "provenance": []
  },
  "kernelspec": {
   "display_name": "Python 3 (ipykernel)",
   "language": "python",
   "name": "python3"
  },
  "language_info": {
   "codemirror_mode": {
    "name": "ipython",
    "version": 3
   },
   "file_extension": ".py",
   "mimetype": "text/x-python",
   "name": "python",
   "nbconvert_exporter": "python",
   "pygments_lexer": "ipython3",
   "version": "3.11.4"
  }
 },
 "nbformat": 4,
 "nbformat_minor": 5
}
