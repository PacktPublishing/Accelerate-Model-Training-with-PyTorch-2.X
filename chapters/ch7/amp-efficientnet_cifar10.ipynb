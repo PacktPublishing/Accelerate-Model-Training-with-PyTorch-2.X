{
 "cells": [
  {
   "cell_type": "code",
   "execution_count": 1,
   "id": "ba1a8f19-e049-4c83-875f-b2e0627c1b4c",
   "metadata": {},
   "outputs": [],
   "source": [
    "import os\n",
    "os.environ['OMP_NUM_THREADS'] = \"32\"\n",
    "os.environ['MKL_NUM_THREADS'] = \"32\"\n",
    "os.environ['NVIDIA_TF32_OVERRIDE'] = \"1\""
   ]
  },
  {
   "cell_type": "code",
   "execution_count": 2,
   "id": "5a20732e-6c90-418a-9817-4c1b4e2a2077",
   "metadata": {
    "id": "5a20732e-6c90-418a-9817-4c1b4e2a2077",
    "tags": []
   },
   "outputs": [],
   "source": [
    "import time\n",
    "import logging\n",
    "import numpy as np\n",
    "import torch\n",
    "import torch.nn as nn\n",
    "from torchvision import datasets\n",
    "from torchvision import transforms\n",
    "from torchvision import models\n",
    "from torch.utils.data.sampler import SubsetRandomSampler\n",
    "from torch.profiler import profile, record_function, ProfilerActivity"
   ]
  },
  {
   "cell_type": "code",
   "execution_count": 3,
   "id": "228ed5e8-bdfa-4de3-8fcc-fb937cb927b9",
   "metadata": {},
   "outputs": [],
   "source": [
    "torch.backends.cudnn.benchmark = True\n",
    "torch.set_num_threads(32)\n",
    "torch.set_num_interop_threads(1)"
   ]
  },
  {
   "cell_type": "code",
   "execution_count": 4,
   "id": "0f92994f-ffe8-4e80-9c46-8963aade1246",
   "metadata": {
    "id": "0f92994f-ffe8-4e80-9c46-8963aade1246",
    "tags": []
   },
   "outputs": [],
   "source": [
    "def build_data_loader(data_dir, batch_size, random_seed=42, valid_size=0.1, shuffle=True, test=False):\n",
    "    transform = transforms.Compose([transforms.ToTensor()])\n",
    "    transform.crop_size=512\n",
    "    transform.resize_size=512\n",
    "    \n",
    "    train_dataset = datasets.CIFAR10(root=data_dir, train=True, download=False, transform=transform)\n",
    "    test_dataset = datasets.CIFAR10(root=data_dir, train=False, download=False, transform=transform)\n",
    "\n",
    "    train_loader = torch.utils.data.DataLoader(train_dataset, batch_size=batch_size, num_workers=4, pin_memory=True)\n",
    "    test_loader = torch.utils.data.DataLoader(test_dataset, batch_size=batch_size, shuffle=shuffle)\n",
    "\n",
    "    return (train_loader, test_loader)"
   ]
  },
  {
   "cell_type": "code",
   "execution_count": 5,
   "id": "d745f184-7704-4850-9f57-4268cf20102e",
   "metadata": {
    "id": "d745f184-7704-4850-9f57-4268cf20102e",
    "tags": []
   },
   "outputs": [],
   "source": [
    "def train(model, data_loader, num_epochs, criterion, optimizer, device):\n",
    "    total_steps = len(train_loader)\n",
    "    for epoch in range(num_epochs):\n",
    "        start = time.time()\n",
    "        for step, (images, labels) in enumerate(train_loader):  \n",
    "            # Move tensors to the configured device\n",
    "            images = images.to(device)\n",
    "            labels = labels.to(device)\n",
    "        \n",
    "            # Forward pass\n",
    "            outputs = model(images)\n",
    "            outputs.to(device)\n",
    "            loss = criterion(outputs, labels)\n",
    "        \n",
    "            # Backward and optimize\n",
    "            optimizer.zero_grad()\n",
    "            loss.backward()\n",
    "            optimizer.step()\n",
    "            #print ('Step [{}/{}], Loss: {:.4f}'.format(step+1, total_steps, loss.item()))\n",
    "        end = time.time()\n",
    "               \n",
    "        print ('Epoch [{}/{}], Loss: {:.4f}, time: {} seconds'.format(epoch+1, num_epochs, loss.item(), int(end-start)))\n",
    "            "
   ]
  },
  {
   "cell_type": "code",
   "execution_count": 6,
   "id": "a0a62cfc-7054-4d4e-8ff9-c36706146ccf",
   "metadata": {
    "id": "d745f184-7704-4850-9f57-4268cf20102e",
    "tags": []
   },
   "outputs": [],
   "source": [
    "def train_amp(model, data_loader, num_epochs, criterion, optimizer, device):\n",
    "    scaler = torch.cuda.amp.GradScaler()\n",
    "    total_steps = len(train_loader)\n",
    "    for epoch in range(num_epochs):\n",
    "        start = time.time()\n",
    "        for step, (images, labels) in enumerate(train_loader): \n",
    "            # Move tensors to the configured device\n",
    "            images = images.to(device)\n",
    "            labels = labels.to(device)\n",
    "\n",
    "            with torch.autocast(device_type=device, dtype=torch.float16, enabled=True):\n",
    "                output = model(images).to(device)\n",
    "                loss = criterion(output, labels)\n",
    "\n",
    "            # Backward and optimize\n",
    "            optimizer.zero_grad()\n",
    "            scaler.scale(loss).backward()\n",
    "            scaler.step(optimizer)\n",
    "            scaler.update()\n",
    "            #print ('Step [{}/{}], Loss: {:.4f}'.format(step+1, total_steps, loss.item()))\n",
    "        end = time.time()\n",
    "               \n",
    "        print ('Epoch [{}/{}], Loss: {:.4f}, time: {} seconds'.format(epoch+1, num_epochs, loss.item(), int(end-start)))\n",
    "            "
   ]
  },
  {
   "cell_type": "code",
   "execution_count": 7,
   "id": "e1843b38-0eff-476b-8ed0-2a1646dbb72f",
   "metadata": {
    "id": "e1843b38-0eff-476b-8ed0-2a1646dbb72f",
    "tags": []
   },
   "outputs": [],
   "source": [
    "def test(model, test_loader, device):\n",
    "    with torch.no_grad():\n",
    "        correct = 0\n",
    "        total = 0\n",
    "        for images, labels in test_loader:\n",
    "            images = images.to(device)\n",
    "            labels = labels.to(device)\n",
    "            outputs = model(images)\n",
    "            _, predicted = torch.max(outputs.data, 1)\n",
    "            total += labels.size(0)\n",
    "            correct += (predicted == labels).sum().item()\n",
    "            del images, labels, outputs\n",
    "\n",
    "    print('Accuracy of the network on the {} test images: {} %'.format(10000, 100 * correct / total))  "
   ]
  },
  {
   "cell_type": "code",
   "execution_count": 8,
   "id": "76056f95-3978-44e4-94a0-a9c4c7ee21fc",
   "metadata": {
    "colab": {
     "base_uri": "https://localhost:8080/"
    },
    "id": "76056f95-3978-44e4-94a0-a9c4c7ee21fc",
    "outputId": "1066a5d6-c889-402e-864c-7d7359d1ef91",
    "tags": []
   },
   "outputs": [],
   "source": [
    "# General parameters\n",
    "data_dir = '/tmp'\n",
    "device = \"cuda\"\n",
    "\n",
    "# Hyperparameters\n",
    "lr = 0.00001\n",
    "weight_decay = 0.005\n",
    "batch_size = 2048\n",
    "num_epochs = 50\n",
    "criterion = nn.CrossEntropyLoss()\n",
    "optimizer = torch.optim.Adam\n",
    "\n",
    "# Dataset \n",
    "train_loader, test_loader = build_data_loader(data_dir=data_dir, batch_size=batch_size)\n",
    "\n",
    "# Model\n",
    "net = models.efficientnet_b7()\n",
    "net.train()\n",
    "model = net.to(device)\n",
    "\n",
    "# Optimizer\n",
    "optimizer = optimizer(model.parameters(), lr, weight_decay=weight_decay)"
   ]
  },
  {
   "cell_type": "code",
   "execution_count": 9,
   "id": "1a5a2dd6-9c3d-4ef1-95e4-f8fe609c98ae",
   "metadata": {},
   "outputs": [
    {
     "name": "stdout",
     "output_type": "stream",
     "text": [
      "Epoch [1/50], Loss: 7.1894, time: 30 seconds\n",
      "Epoch [2/50], Loss: 7.1552, time: 9 seconds\n",
      "Epoch [3/50], Loss: 7.1069, time: 9 seconds\n",
      "Epoch [4/50], Loss: 7.0585, time: 9 seconds\n",
      "Epoch [5/50], Loss: 7.0442, time: 9 seconds\n",
      "Epoch [6/50], Loss: 7.0586, time: 9 seconds\n",
      "Epoch [7/50], Loss: 6.9536, time: 9 seconds\n",
      "Epoch [8/50], Loss: 6.9571, time: 9 seconds\n",
      "Epoch [9/50], Loss: 6.9259, time: 9 seconds\n",
      "Epoch [10/50], Loss: 6.9408, time: 9 seconds\n",
      "Epoch [11/50], Loss: 6.9134, time: 9 seconds\n",
      "Epoch [12/50], Loss: 6.8597, time: 9 seconds\n",
      "Epoch [13/50], Loss: 6.9018, time: 9 seconds\n",
      "Epoch [14/50], Loss: 6.8310, time: 9 seconds\n",
      "Epoch [15/50], Loss: 6.7867, time: 9 seconds\n",
      "Epoch [16/50], Loss: 6.8043, time: 9 seconds\n",
      "Epoch [17/50], Loss: 6.8440, time: 9 seconds\n",
      "Epoch [18/50], Loss: 6.7893, time: 9 seconds\n",
      "Epoch [19/50], Loss: 6.7008, time: 9 seconds\n",
      "Epoch [20/50], Loss: 6.6904, time: 9 seconds\n",
      "Epoch [21/50], Loss: 6.6725, time: 9 seconds\n",
      "Epoch [22/50], Loss: 6.6459, time: 9 seconds\n",
      "Epoch [23/50], Loss: 6.6689, time: 9 seconds\n",
      "Epoch [24/50], Loss: 6.6332, time: 9 seconds\n",
      "Epoch [25/50], Loss: 6.6120, time: 9 seconds\n",
      "Epoch [26/50], Loss: 6.5920, time: 9 seconds\n",
      "Epoch [27/50], Loss: 6.5361, time: 9 seconds\n",
      "Epoch [28/50], Loss: 6.4852, time: 9 seconds\n",
      "Epoch [29/50], Loss: 6.5197, time: 9 seconds\n",
      "Epoch [30/50], Loss: 6.4672, time: 9 seconds\n",
      "Epoch [31/50], Loss: 6.4424, time: 9 seconds\n",
      "Epoch [32/50], Loss: 6.4097, time: 9 seconds\n",
      "Epoch [33/50], Loss: 6.3299, time: 9 seconds\n",
      "Epoch [34/50], Loss: 6.2955, time: 9 seconds\n",
      "Epoch [35/50], Loss: 6.2971, time: 9 seconds\n",
      "Epoch [36/50], Loss: 6.1935, time: 9 seconds\n",
      "Epoch [37/50], Loss: 6.1715, time: 9 seconds\n",
      "Epoch [38/50], Loss: 6.0763, time: 9 seconds\n",
      "Epoch [39/50], Loss: 5.9891, time: 9 seconds\n",
      "Epoch [40/50], Loss: 5.9863, time: 9 seconds\n",
      "Epoch [41/50], Loss: 5.9633, time: 9 seconds\n",
      "Epoch [42/50], Loss: 5.8441, time: 9 seconds\n",
      "Epoch [43/50], Loss: 5.6207, time: 9 seconds\n",
      "Epoch [44/50], Loss: 5.4625, time: 9 seconds\n",
      "Epoch [45/50], Loss: 5.2657, time: 9 seconds\n",
      "Epoch [46/50], Loss: 5.0841, time: 9 seconds\n",
      "Epoch [47/50], Loss: 4.8713, time: 9 seconds\n",
      "Epoch [48/50], Loss: 4.7190, time: 9 seconds\n",
      "Epoch [49/50], Loss: 4.3918, time: 9 seconds\n",
      "Epoch [50/50], Loss: 4.1912, time: 9 seconds\n",
      "Training time: 481 seconds\n",
      "Accuracy of the network on the 10000 test images: 11.69 %\n"
     ]
    }
   ],
   "source": [
    "# Training\n",
    "start = time.time()\n",
    "train_amp(model, train_loader, num_epochs, criterion, optimizer, device)\n",
    "end = time.time()\n",
    "print('Training time: {} seconds'.format(int(end-start)))\n",
    "test(model, test_loader, device)"
   ]
  },
  {
   "cell_type": "code",
   "execution_count": 10,
   "id": "2d9f5f8a-8378-4eee-aae7-a1d178b24ee7",
   "metadata": {},
   "outputs": [
    {
     "data": {
      "text/plain": [
       "'\\nactivities = [ProfilerActivity.CPU, ProfilerActivity.CUDA]\\nprof = profile(activities=activities)\\n        \\ninput_sample, _ = next(iter(train_loader))\\ninput_sample.to(device)\\n\\nprof.start()\\ntrain(model, train_loader, num_epochs, criterion, optimizer, device)\\nprof.stop()\\n\\n#prof.export_chrome_trace(\"./cnn_trace.json\")\\nprint(prof.key_averages().table(sort_by=\"self_cuda_time_total\", row_limit=15))\\n'"
      ]
     },
     "execution_count": 10,
     "metadata": {},
     "output_type": "execute_result"
    }
   ],
   "source": [
    "'''\n",
    "activities = [ProfilerActivity.CPU, ProfilerActivity.CUDA]\n",
    "prof = profile(activities=activities)\n",
    "        \n",
    "input_sample, _ = next(iter(train_loader))\n",
    "input_sample.to(device)\n",
    "\n",
    "prof.start()\n",
    "train(model, train_loader, num_epochs, criterion, optimizer, device)\n",
    "prof.stop()\n",
    "\n",
    "#prof.export_chrome_trace(\"./cnn_trace.json\")\n",
    "print(prof.key_averages().table(sort_by=\"self_cuda_time_total\", row_limit=15))\n",
    "'''"
   ]
  },
  {
   "cell_type": "code",
   "execution_count": null,
   "id": "e2fbc0e2-5396-47d5-a3e5-73b6f921e49b",
   "metadata": {},
   "outputs": [],
   "source": []
  }
 ],
 "metadata": {
  "accelerator": "GPU",
  "colab": {
   "gpuType": "T4",
   "provenance": []
  },
  "kernelspec": {
   "display_name": "Python 3 (ipykernel)",
   "language": "python",
   "name": "python3"
  },
  "language_info": {
   "codemirror_mode": {
    "name": "ipython",
    "version": 3
   },
   "file_extension": ".py",
   "mimetype": "text/x-python",
   "name": "python",
   "nbconvert_exporter": "python",
   "pygments_lexer": "ipython3",
   "version": "3.11.4"
  }
 },
 "nbformat": 4,
 "nbformat_minor": 5
}
