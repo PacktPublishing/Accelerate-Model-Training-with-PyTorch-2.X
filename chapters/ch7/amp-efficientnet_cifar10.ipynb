{
 "cells": [
  {
   "cell_type": "code",
   "execution_count": 1,
   "id": "ba1a8f19-e049-4c83-875f-b2e0627c1b4c",
   "metadata": {},
   "outputs": [],
   "source": [
    "import os\n",
    "os.environ['OMP_NUM_THREADS'] = \"32\"\n",
    "os.environ['MKL_NUM_THREADS'] = \"32\""
   ]
  },
  {
   "cell_type": "code",
   "execution_count": 2,
   "id": "5a20732e-6c90-418a-9817-4c1b4e2a2077",
   "metadata": {
    "id": "5a20732e-6c90-418a-9817-4c1b4e2a2077",
    "tags": []
   },
   "outputs": [],
   "source": [
    "import time\n",
    "import logging\n",
    "import numpy as np\n",
    "import torch\n",
    "import torch.nn as nn\n",
    "from torchvision import datasets\n",
    "from torchvision import transforms\n",
    "from torchvision import models\n",
    "from torch.utils.data.sampler import SubsetRandomSampler\n",
    "from torch.profiler import profile, record_function, ProfilerActivity"
   ]
  },
  {
   "cell_type": "code",
   "execution_count": 3,
   "id": "228ed5e8-bdfa-4de3-8fcc-fb937cb927b9",
   "metadata": {},
   "outputs": [],
   "source": [
    "torch.backends.cudnn.benchmark = True\n",
    "torch.set_num_threads(32)\n",
    "torch.set_num_interop_threads(1)"
   ]
  },
  {
   "cell_type": "code",
   "execution_count": 4,
   "id": "21ba52c0-5430-4f24-aaf5-73fff6804b01",
   "metadata": {},
   "outputs": [],
   "source": [
    "torch.backends.cuda.matmul.allow_tf32 = True\n",
    "torch.backends.cudnn.allow_tf32 = True\n",
    "torch.backends.cuda.matmul.allow_bf16_reduced_precision_reduction = True\n",
    "torch.backends.cuda.matmul.allow_fp16_reduced_precision_reduction = True"
   ]
  },
  {
   "cell_type": "code",
   "execution_count": 5,
   "id": "0f92994f-ffe8-4e80-9c46-8963aade1246",
   "metadata": {
    "id": "0f92994f-ffe8-4e80-9c46-8963aade1246",
    "tags": []
   },
   "outputs": [],
   "source": [
    "def build_data_loader(data_dir, batch_size, random_seed=42, valid_size=0.1, shuffle=True, test=False):\n",
    "    transform = transforms.Compose([transforms.ToTensor()])\n",
    "    transform.crop_size=512\n",
    "    transform.resize_size=512\n",
    "    \n",
    "    train_dataset = datasets.CIFAR10(root=data_dir, train=True, download=False, transform=transform)\n",
    "    test_dataset = datasets.CIFAR10(root=data_dir, train=False, download=False, transform=transform)\n",
    "\n",
    "    train_loader = torch.utils.data.DataLoader(train_dataset, batch_size=batch_size, num_workers=4, pin_memory=True)\n",
    "    test_loader = torch.utils.data.DataLoader(test_dataset, batch_size=batch_size, shuffle=shuffle)\n",
    "\n",
    "    return (train_loader, test_loader)"
   ]
  },
  {
   "cell_type": "code",
   "execution_count": 6,
   "id": "d745f184-7704-4850-9f57-4268cf20102e",
   "metadata": {
    "id": "d745f184-7704-4850-9f57-4268cf20102e",
    "tags": []
   },
   "outputs": [],
   "source": [
    "def train(model, data_loader, num_epochs, criterion, optimizer, device):\n",
    "    total_steps = len(train_loader)\n",
    "    for epoch in range(num_epochs):\n",
    "        start = time.time()\n",
    "        for step, (images, labels) in enumerate(train_loader):  \n",
    "            # Move tensors to the configured device\n",
    "            images = images.to(device)\n",
    "            labels = labels.to(device)\n",
    "        \n",
    "            # Forward pass\n",
    "            outputs = model(images)\n",
    "            outputs.to(device)\n",
    "            loss = criterion(outputs, labels)\n",
    "        \n",
    "            # Backward and optimize\n",
    "            optimizer.zero_grad()\n",
    "            loss.backward()\n",
    "            optimizer.step()\n",
    "            #print ('Step [{}/{}], Loss: {:.4f}'.format(step+1, total_steps, loss.item()))\n",
    "        end = time.time()\n",
    "               \n",
    "        print ('Epoch [{}/{}], Loss: {:.4f}, time: {} seconds'.format(epoch+1, num_epochs, loss.item(), int(end-start)))\n",
    "            "
   ]
  },
  {
   "cell_type": "code",
   "execution_count": 7,
   "id": "a0a62cfc-7054-4d4e-8ff9-c36706146ccf",
   "metadata": {
    "id": "d745f184-7704-4850-9f57-4268cf20102e",
    "tags": []
   },
   "outputs": [],
   "source": [
    "def train_amp(model, data_loader, num_epochs, criterion, optimizer, device):\n",
    "    scaler = torch.cuda.amp.GradScaler()\n",
    "    total_steps = len(train_loader)\n",
    "    for epoch in range(num_epochs):\n",
    "        start = time.time()\n",
    "        for step, (images, labels) in enumerate(train_loader): \n",
    "            # Move tensors to the configured device\n",
    "            images = images.to(device)\n",
    "            labels = labels.to(device)\n",
    "\n",
    "            with torch.autocast(device_type=device, dtype=torch.float16):\n",
    "                output = model(images).to(device)\n",
    "                loss = criterion(output, labels)\n",
    "\n",
    "            # Backward and optimize\n",
    "            optimizer.zero_grad()\n",
    "            scaler.scale(loss).backward()\n",
    "            scaler.step(optimizer)\n",
    "            scaler.update()\n",
    "            #print ('Step [{}/{}], Loss: {:.4f}'.format(step+1, total_steps, loss.item()))\n",
    "        end = time.time()\n",
    "               \n",
    "        print ('Epoch [{}/{}], Loss: {:.4f}, time: {} seconds'.format(epoch+1, num_epochs, loss.item(), int(end-start)))\n",
    "            "
   ]
  },
  {
   "cell_type": "code",
   "execution_count": 8,
   "id": "6fc5002a-0fc1-4352-a7aa-ad9246873fbd",
   "metadata": {
    "id": "d745f184-7704-4850-9f57-4268cf20102e",
    "tags": []
   },
   "outputs": [],
   "source": [
    "def train_amp_without_scaler(model, data_loader, num_epochs, criterion, optimizer, device):\n",
    "    total_steps = len(train_loader)\n",
    "    for epoch in range(num_epochs):\n",
    "        start = time.time()\n",
    "        for step, (images, labels) in enumerate(train_loader): \n",
    "            # Move tensors to the configured device\n",
    "            images = images.to(device)\n",
    "            labels = labels.to(device)\n",
    "\n",
    "            with torch.autocast(device_type=device, dtype=torch.bfloat16):\n",
    "                output = model(images).to(device)\n",
    "                loss = criterion(output, labels)\n",
    "\n",
    "            # Backward and optimize\n",
    "            optimizer.zero_grad()\n",
    "            loss.backward()\n",
    "            optimizer.step()\n",
    "            #print ('Step [{}/{}], Loss: {:.4f}'.format(step+1, total_steps, loss.item()))\n",
    "        end = time.time()\n",
    "               \n",
    "        print ('Epoch [{}/{}], Loss: {:.4f}, time: {} seconds'.format(epoch+1, num_epochs, loss.item(), int(end-start)))\n",
    "            "
   ]
  },
  {
   "cell_type": "code",
   "execution_count": 9,
   "id": "e1843b38-0eff-476b-8ed0-2a1646dbb72f",
   "metadata": {
    "id": "e1843b38-0eff-476b-8ed0-2a1646dbb72f",
    "tags": []
   },
   "outputs": [],
   "source": [
    "def test(model, test_loader, device):\n",
    "    with torch.no_grad():\n",
    "        correct = 0\n",
    "        total = 0\n",
    "        for images, labels in test_loader:\n",
    "            images = images.to(device)\n",
    "            labels = labels.to(device)\n",
    "            outputs = model(images)\n",
    "            _, predicted = torch.max(outputs.data, 1)\n",
    "            total += labels.size(0)\n",
    "            correct += (predicted == labels).sum().item()\n",
    "            del images, labels, outputs\n",
    "\n",
    "    print('Accuracy of the network on the {} test images: {} %'.format(10000, 100 * correct / total))  "
   ]
  },
  {
   "cell_type": "code",
   "execution_count": 10,
   "id": "76056f95-3978-44e4-94a0-a9c4c7ee21fc",
   "metadata": {
    "colab": {
     "base_uri": "https://localhost:8080/"
    },
    "id": "76056f95-3978-44e4-94a0-a9c4c7ee21fc",
    "outputId": "1066a5d6-c889-402e-864c-7d7359d1ef91",
    "tags": []
   },
   "outputs": [],
   "source": [
    "# General parameters\n",
    "data_dir = '/tmp'\n",
    "device = \"cuda\"\n",
    "\n",
    "# Hyperparameters\n",
    "lr = 0.001\n",
    "weight_decay = 0.005\n",
    "batch_size = 2048\n",
    "num_epochs = 50\n",
    "criterion = nn.CrossEntropyLoss()\n",
    "optimizer = torch.optim.Adam\n",
    "\n",
    "# Dataset \n",
    "train_loader, test_loader = build_data_loader(data_dir=data_dir, batch_size=batch_size)\n",
    "\n",
    "# Model\n",
    "#weights = models.EfficientNet_B7_Weights.DEFAULT\n",
    "net = models.efficientnet_b7()\n",
    "net.train()\n",
    "model = net.to(device)\n",
    "\n",
    "# Optimizer\n",
    "optimizer = optimizer(model.parameters(), lr, weight_decay=weight_decay)"
   ]
  },
  {
   "cell_type": "code",
   "execution_count": 11,
   "id": "1a5a2dd6-9c3d-4ef1-95e4-f8fe609c98ae",
   "metadata": {},
   "outputs": [
    {
     "name": "stdout",
     "output_type": "stream",
     "text": [
      "Epoch [1/50], Loss: 3.8119, time: 19 seconds\n",
      "Epoch [2/50], Loss: 2.5468, time: 14 seconds\n",
      "Epoch [3/50], Loss: 2.3518, time: 14 seconds\n",
      "Epoch [4/50], Loss: 2.2284, time: 14 seconds\n",
      "Epoch [5/50], Loss: 2.0671, time: 14 seconds\n",
      "Epoch [6/50], Loss: 2.0159, time: 14 seconds\n",
      "Epoch [7/50], Loss: 1.9560, time: 14 seconds\n",
      "Epoch [8/50], Loss: 1.9813, time: 14 seconds\n",
      "Epoch [9/50], Loss: 1.9518, time: 14 seconds\n",
      "Epoch [10/50], Loss: 1.8865, time: 14 seconds\n",
      "Epoch [11/50], Loss: 1.9012, time: 14 seconds\n",
      "Epoch [12/50], Loss: 1.8329, time: 14 seconds\n",
      "Epoch [13/50], Loss: 1.8781, time: 14 seconds\n",
      "Epoch [14/50], Loss: 1.8450, time: 14 seconds\n",
      "Epoch [15/50], Loss: 1.8052, time: 14 seconds\n",
      "Epoch [16/50], Loss: 1.8072, time: 14 seconds\n",
      "Epoch [17/50], Loss: 1.8629, time: 14 seconds\n",
      "Epoch [18/50], Loss: 1.7391, time: 14 seconds\n",
      "Epoch [19/50], Loss: 1.6643, time: 14 seconds\n",
      "Epoch [20/50], Loss: 1.6310, time: 14 seconds\n",
      "Epoch [21/50], Loss: 1.6280, time: 14 seconds\n",
      "Epoch [22/50], Loss: 1.5911, time: 14 seconds\n",
      "Epoch [23/50], Loss: 1.5889, time: 14 seconds\n",
      "Epoch [24/50], Loss: 1.5589, time: 14 seconds\n",
      "Epoch [25/50], Loss: 1.5338, time: 14 seconds\n",
      "Epoch [26/50], Loss: 1.5017, time: 14 seconds\n",
      "Epoch [27/50], Loss: 1.4911, time: 14 seconds\n",
      "Epoch [28/50], Loss: 1.4498, time: 14 seconds\n",
      "Epoch [29/50], Loss: 1.4351, time: 15 seconds\n",
      "Epoch [30/50], Loss: 1.4064, time: 14 seconds\n",
      "Epoch [31/50], Loss: 1.3541, time: 14 seconds\n",
      "Epoch [32/50], Loss: 1.3228, time: 14 seconds\n",
      "Epoch [33/50], Loss: 1.2932, time: 14 seconds\n",
      "Epoch [34/50], Loss: 1.2508, time: 14 seconds\n",
      "Epoch [35/50], Loss: 1.2053, time: 14 seconds\n",
      "Epoch [36/50], Loss: 1.2286, time: 14 seconds\n",
      "Epoch [37/50], Loss: 1.1694, time: 14 seconds\n",
      "Epoch [38/50], Loss: 1.1260, time: 14 seconds\n",
      "Epoch [39/50], Loss: 1.0883, time: 14 seconds\n",
      "Epoch [40/50], Loss: 1.0494, time: 14 seconds\n",
      "Epoch [41/50], Loss: 1.0733, time: 14 seconds\n",
      "Epoch [42/50], Loss: 1.0346, time: 14 seconds\n",
      "Epoch [43/50], Loss: 1.0332, time: 14 seconds\n",
      "Epoch [44/50], Loss: 1.0255, time: 14 seconds\n",
      "Epoch [45/50], Loss: 0.9997, time: 14 seconds\n",
      "Epoch [46/50], Loss: 1.0026, time: 14 seconds\n",
      "Epoch [47/50], Loss: 0.9791, time: 14 seconds\n",
      "Epoch [48/50], Loss: 0.9356, time: 14 seconds\n",
      "Epoch [49/50], Loss: 0.9515, time: 14 seconds\n",
      "Epoch [50/50], Loss: 0.9272, time: 14 seconds\n",
      "Training time: 750 seconds\n",
      "Accuracy of the network on the 10000 test images: 50.41 %\n"
     ]
    }
   ],
   "source": [
    "# Training\n",
    "start = time.time()\n",
    "train_amp_without_scaler(model, train_loader, num_epochs, criterion, optimizer, device)\n",
    "end = time.time()\n",
    "print('Training time: {} seconds'.format(int(end-start)))\n",
    "test(model, test_loader, device)"
   ]
  },
  {
   "cell_type": "markdown",
   "id": "6a3ca5f8-1096-41fd-bcda-6e1bf7488cd2",
   "metadata": {},
   "source": [
    "Sem AMP (benchmark=False): 1404 (não usou TC)\n",
    "\n",
    "Com AMP FP16 (benchmark=False): 1224 (não usou TC)\n",
    "\n",
    "Com AMP BFP16 (benchmark=False): 1390 (não usou TC)\n",
    "\n",
    "Sem AMP (benchmark=True): 811 (usou 1.80% de TC)\n",
    "\n",
    "Com AMP FP16 (benchmark=True): 486 (usou 1.58% de TC)\n",
    "\n",
    "Com AMP BFP16 (benchmark=True): 754 (usou 1.00% de TC)\n"
   ]
  },
  {
   "cell_type": "code",
   "execution_count": null,
   "id": "6b8cd62a-a21b-44d5-b4f9-d90926abc3de",
   "metadata": {},
   "outputs": [],
   "source": []
  }
 ],
 "metadata": {
  "accelerator": "GPU",
  "colab": {
   "gpuType": "T4",
   "provenance": []
  },
  "kernelspec": {
   "display_name": "Python 3 (ipykernel)",
   "language": "python",
   "name": "python3"
  },
  "language_info": {
   "codemirror_mode": {
    "name": "ipython",
    "version": 3
   },
   "file_extension": ".py",
   "mimetype": "text/x-python",
   "name": "python",
   "nbconvert_exporter": "python",
   "pygments_lexer": "ipython3",
   "version": "3.10.12"
  }
 },
 "nbformat": 4,
 "nbformat_minor": 5
}
